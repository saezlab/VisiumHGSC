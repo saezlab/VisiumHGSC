{
 "cells": [
  {
   "cell_type": "code",
   "execution_count": 2,
   "metadata": {},
   "outputs": [],
   "source": [
    "import scanpy as sc\n",
    "import pandas as pd\n",
    "import decoupler as dc\n",
    "import numpy as np\n",
    "\n",
    "import matplotlib.pyplot as plt\n",
    "from matplotlib.backends.backend_pdf import PdfPages"
   ]
  },
  {
   "cell_type": "code",
   "execution_count": 3,
   "metadata": {},
   "outputs": [],
   "source": [
    "# Define input and output files\n",
    "if 'snakemake' in locals():\n",
    "    adata_fp = snakemake.input[0]\n",
    "    output_fp = snakemake.output[0]\n",
    "    normalisation = snakemake.params[0]\n",
    "    top_genes = snakemake.params[1]\n",
    "else:\n",
    "    adata_fp = '../../../data/merged.h5ad'\n",
    "    output_fp = 'test.csv'\n",
    "    normalisation = 'log1p'\n",
    "    top_genes = 300\n",
    "\n",
    "adata_spatial = sc.read_h5ad(adata_fp)"
   ]
  },
  {
   "cell_type": "code",
   "execution_count": 4,
   "metadata": {},
   "outputs": [
    {
     "data": {
      "text/plain": [
       "AnnData object with n_obs × n_vars = 9129 × 5559\n",
       "    obs: 'orig.ident', 'nCount_Spatial', 'nFeature_Spatial', 'Sample', 'plate', 'Confidence', 'PFI', 'patient', 'annotation_manual', 'B.cells_UCell', 'Cancer.cells_UCell', 'Dendritic.cells_UCell', 'Endothelial.cells_UCell', 'Fibroblasts_UCell', 'Meyloid.cells_UCell', 'T.cells_UCell', 'Ovarian.stromal.cells_UCell', 'Naturall.Killer.cells_UCell', 'Mast.cells_UCell', 'cell_type', 'seurat_clusters_old', 'PFI_confidence', 'nCount_SCT', 'nFeature_SCT', 'SCT_snn_res.0.8', 'seurat_clusters', 'in_tissue', 'array_row', 'array_col', '_indices', '_scvi_batch', '_scvi_labels'\n",
       "    var: '_indices', 'features'\n",
       "    uns: '_scvi_manager_uuid', '_scvi_uuid', 'mod', 'neighbors', 'spatial'\n",
       "    obsm: 'X_harmony', 'X_pca', 'X_umap', 'means_cell_abundance_w_sf', 'mt', 'q05_cell_abundance_w_sf', 'q95_cell_abundance_w_sf', 'spatial', 'stds_cell_abundance_w_sf'\n",
       "    varm: 'HARMONY', 'PCs'\n",
       "    obsp: 'distances'"
      ]
     },
     "execution_count": 4,
     "metadata": {},
     "output_type": "execute_result"
    }
   ],
   "source": [
    "adata_spatial"
   ]
  },
  {
   "cell_type": "code",
   "execution_count": null,
   "metadata": {},
   "outputs": [],
   "source": [
    "if normalisation == 'log1p':\n",
    "    sc.pp.normalize_total(adata_spatial, inplace=True)\n",
    "    sc.pp.log1p(adata_spatial)\n",
    "elif normalisation == 'SCT':\n",
    "    adata_spatial.layers['counts'] = adata_spatial.X\n",
    "    adata_spatial.X = adata_spatial.layers['SCT'].copy()\n",
    "    del adata_spatial.layers['SCT']\n",
    "    adata_spatial"
   ]
  },
  {
   "cell_type": "code",
   "execution_count": null,
   "metadata": {},
   "outputs": [],
   "source": [
    "model = dc.get_progeny(organism='human', top=top_genes)\n",
    "dc.run_mlm(mat=adata_spatial, net=model, source='source', target='target', weight='weight', verbose=True, use_raw=False)"
   ]
  },
  {
   "cell_type": "code",
   "execution_count": null,
   "metadata": {},
   "outputs": [],
   "source": [
    "acts = dc.get_acts(adata_spatial, obsm_key='mlm_estimate')\n",
    "print(acts)"
   ]
  },
  {
   "cell_type": "code",
   "execution_count": null,
   "metadata": {},
   "outputs": [],
   "source": [
    "lims = pd.DataFrame({ 'llim' : [np.min(acts.X[:,ii]) for ii in range(acts.n_vars)], 'ulim': [np.max(acts.X[:,ii]) for ii in range(acts.n_vars)]}, index = acts.var_names.values)\n",
    "lims['lim'] = [np.max(abs(acts.X[:,ii])) for ii in range(acts.n_vars)]\n",
    "print('Max and min values per pathway')\n",
    "print(lims)"
   ]
  }
 ],
 "metadata": {
  "kernelspec": {
   "display_name": "Python 3.10.5 ('ovisium')",
   "language": "python",
   "name": "python3"
  },
  "language_info": {
   "codemirror_mode": {
    "name": "ipython",
    "version": 3
   },
   "file_extension": ".py",
   "mimetype": "text/x-python",
   "name": "python",
   "nbconvert_exporter": "python",
   "pygments_lexer": "ipython3",
   "version": "3.10.5"
  },
  "orig_nbformat": 4,
  "vscode": {
   "interpreter": {
    "hash": "6a7079059a9f1347254a6f54858208661339ce526204ca2b5728b4c4ffa6cb74"
   }
  }
 },
 "nbformat": 4,
 "nbformat_minor": 2
}
